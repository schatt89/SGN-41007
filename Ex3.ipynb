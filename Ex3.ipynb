{
 "cells": [
  {
   "cell_type": "markdown",
   "metadata": {},
   "source": [
    "# Task 1 "
   ]
  },
  {
   "cell_type": "code",
   "execution_count": 7,
   "metadata": {},
   "outputs": [],
   "source": [
    "import warnings\n",
    "warnings.filterwarnings('ignore')\n",
    "from sklearn.datasets import load_digits\n",
    "import numpy as np\n",
    "\n",
    "digits = load_digits()"
   ]
  },
  {
   "cell_type": "code",
   "execution_count": 8,
   "metadata": {},
   "outputs": [
    {
     "name": "stdout",
     "output_type": "stream",
     "text": [
      "dict_keys(['data', 'target', 'target_names', 'images', 'DESCR'])\n"
     ]
    }
   ],
   "source": [
    "print(digits.keys())"
   ]
  },
  {
   "cell_type": "code",
   "execution_count": 9,
   "metadata": {},
   "outputs": [
    {
     "data": {
      "image/png": "[encoded data removed]",
      "text/plain": [
       "<Figure size 432x288 with 1 Axes>"
      ]
     },
     "metadata": {
      "needs_background": "light"
     },
     "output_type": "display_data"
    }
   ],
   "source": [
    "%matplotlib inline\n",
    "import matplotlib.pyplot as plt\n",
    "plt.gray()\n",
    "plt.imshow(digits.images[0])\n",
    "plt.show()"
   ]
  },
  {
   "cell_type": "code",
   "execution_count": 10,
   "metadata": {},
   "outputs": [
    {
     "data": {
      "text/plain": [
       "0"
      ]
     },
     "execution_count": 10,
     "metadata": {},
     "output_type": "execute_result"
    }
   ],
   "source": [
    "digits.target[0]"
   ]
  },
  {
   "cell_type": "code",
   "execution_count": 11,
   "metadata": {},
   "outputs": [],
   "source": [
    "from sklearn.model_selection import train_test_split\n",
    "from sklearn.neighbors import KNeighborsClassifier\n",
    "from sklearn.discriminant_analysis import LinearDiscriminantAnalysis\n",
    "from sklearn.svm import SVC\n",
    "from sklearn.linear_model import LogisticRegression\n",
    "from sklearn.metrics import accuracy_score\n",
    "\n",
    "X_train, X_test, y_train, y_test = train_test_split(digits.data, digits.target, test_size=0.2, random_state=42)"
   ]
  },
  {
   "cell_type": "code",
   "execution_count": 12,
   "metadata": {},
   "outputs": [
    {
     "name": "stdout",
     "output_type": "stream",
     "text": [
      "KNeighborsClassifier Accuracy : 0.99\n",
      "LinearDiscriminantAnalysis Accuracy : 0.94\n",
      "SVC Accuracy : 0.47\n",
      "LogisticRegression Accuracy : 0.96\n"
     ]
    }
   ],
   "source": [
    "models = [KNeighborsClassifier(), LinearDiscriminantAnalysis(), SVC(), LogisticRegression()]\n",
    "model_names = ['KNeighborsClassifier', 'LinearDiscriminantAnalysis', 'SVC', 'LogisticRegression']\n",
    "for i in range(len(models)):\n",
    "    m = models[i]\n",
    "    m.fit(X_train, y_train) \n",
    "\n",
    "    pred = m.predict(X_test)\n",
    "\n",
    "    acc = accuracy_score(y_test, pred)\n",
    "    print( model_names[i], \"Accuracy :\", np.round(acc, 2))"
   ]
  },
  {
   "cell_type": "markdown",
   "metadata": {},
   "source": [
    "# Task 2"
   ]
  },
  {
   "cell_type": "code",
   "execution_count": 13,
   "metadata": {},
   "outputs": [
    {
     "name": "stdout",
     "output_type": "stream",
     "text": [
      "X shape: (202, 64, 64)\n",
      "F shape: (202, 256)\n"
     ]
    }
   ],
   "source": [
    "# -*- coding: utf-8 -*-\n",
    "\"\"\"\n",
    "Created on Thu Jan 24 08:48:51 2019\n",
    "\n",
    "@author: hehu\n",
    "\"\"\"\n",
    "\n",
    "import numpy as np\n",
    "from math import floor, ceil\n",
    "\n",
    "def bilinear(image, r, c):\n",
    "    minr = floor(r)\n",
    "    minc = floor(c)\n",
    "    maxr = ceil(r)\n",
    "    maxc = ceil(c)\n",
    "\n",
    "    dr = r-minr\n",
    "    dc = c-minc\n",
    "\n",
    "    top = (1-dc)*image[minr,minc] + dc*image[minr,maxc]\n",
    "    bot = (1-dc)*image[maxr,minc] + dc*image[maxr,maxc]\n",
    "\n",
    "    return (1-dr)*top+dr*bot\n",
    "\n",
    "def local_binary_pattern(image, P=8, R=1):\n",
    "    rr = - R * np.sin(2*np.pi*np.arange(P, dtype=np.double) / P)\n",
    "    cc = R * np.cos(2*np.pi*np.arange(P, dtype=np.double) / P)\n",
    "    rp = np.round(rr, 5)\n",
    "    cp = np.round(cc, 5)\n",
    "    \n",
    "    rows = image.shape[0]\n",
    "    cols = image.shape[1]\n",
    "\n",
    "    output = np.zeros((rows, cols))\n",
    "\n",
    "    for r in range(R,rows-R):\n",
    "        for c in range(R,cols-R):\n",
    "            lbp = 0\n",
    "            for i in range(P):\n",
    "                if bilinear(image, r+rp[i], c+cp[i]) - image[r,c] >= 0:\n",
    "                    lbp += 1<<i\n",
    "                            \n",
    "            output[r,c] = lbp\n",
    "\n",
    "    return output\n",
    "\n",
    "\n",
    "import glob\n",
    "import numpy as np\n",
    "import os\n",
    "import matplotlib.pyplot as plt\n",
    "#from simplelbp import local_binary_pattern\n",
    "\n",
    "def load_data(folder):\n",
    "    \"\"\" \n",
    "    Load all images from subdirectories of\n",
    "    'folder'. The subdirectory name indicates\n",
    "    the class.\n",
    "    \"\"\"\n",
    "    \n",
    "    X = []          # Images go here\n",
    "    y = []          # Class labels go here\n",
    "    classes = []    # All class names go here\n",
    "    \n",
    "    subdirectories = glob.glob(folder + \"/*\")\n",
    "    \n",
    "    # Loop over all folders\n",
    "    for d in subdirectories:\n",
    "        \n",
    "        # Find all files from this folder\n",
    "        files = glob.glob(d + os.sep + \"*.jpg\")\n",
    "        \n",
    "        # Load all files\n",
    "        for name in files:\n",
    "            \n",
    "            # Load image and parse class name\n",
    "            img = plt.imread(name)\n",
    "            class_name = name.split(os.sep)[-2]\n",
    "\n",
    "            # Convert class names to integer indices:\n",
    "            if class_name not in classes:\n",
    "                classes.append(class_name)\n",
    "            \n",
    "            class_idx = classes.index(class_name)\n",
    "            \n",
    "            X.append(img)\n",
    "            y.append(class_idx)\n",
    "    \n",
    "    # Convert python lists to contiguous numpy arrays\n",
    "    X = np.array(X)\n",
    "    y = np.array(y)\n",
    "    \n",
    "    return X, y\n",
    "\n",
    "def extract_lbp_features(X, P = 8, R = 5):\n",
    "    \"\"\"\n",
    "    Extract LBP features from all input samples.\n",
    "    - R is radius parameter\n",
    "    - P is the number of angles for LBP\n",
    "    \"\"\"\n",
    "    \n",
    "    F = [] # Features are stored here\n",
    "    \n",
    "    N = X.shape[0]\n",
    "    for k in range(N):\n",
    "        \n",
    "        #print(\"Processing image {}/{}\".format(k+1, N))\n",
    "        \n",
    "        image = X[k, ...]\n",
    "        lbp = local_binary_pattern(image, P, R)\n",
    "        hist = np.histogram(lbp, bins=range(257))[0]\n",
    "        F.append(hist)\n",
    "\n",
    "    return np.array(F)\n",
    "\n",
    "# Test our loader\n",
    "\n",
    "X, y = load_data(\"Ex3_data/GTSRB_subset\")\n",
    "F = extract_lbp_features(X)\n",
    "print(\"X shape: \" + str(X.shape))\n",
    "print(\"F shape: \" + str(F.shape))\n",
    "\n",
    "# Continue your code here...\n"
   ]
  },
  {
   "cell_type": "code",
   "execution_count": 14,
   "metadata": {},
   "outputs": [],
   "source": [
    "from sklearn.model_selection import cross_val_score\n",
    "from sklearn.utils import shuffle\n",
    "X = extract_lbp_features(X, P = 8, R = 5)\n",
    "X, y = shuffle(X, y, random_state=0)"
   ]
  },
  {
   "cell_type": "code",
   "execution_count": 15,
   "metadata": {},
   "outputs": [
    {
     "name": "stdout",
     "output_type": "stream",
     "text": [
      "KNeighborsClassifier CrossVal Accuracy: 0.97 (+/- 0.07)\n",
      "LinearDiscriminantAnalysis CrossVal Accuracy: 0.99 (+/- 0.02)\n",
      "SVC CrossVal Accuracy: 0.54 (+/- 0.06)\n",
      "LogisticRegression CrossVal Accuracy: 1.00 (+/- 0.00)\n"
     ]
    }
   ],
   "source": [
    "for i in range(len(models)):\n",
    "    m = models[i]\n",
    "    scores = cross_val_score(m, X, y, cv = 5)\n",
    "\n",
    "    print( model_names[i], \"CrossVal Accuracy: %0.2f (+/- %0.2f)\" % (scores.mean(), scores.std() * 2))"
   ]
  },
  {
   "cell_type": "markdown",
   "metadata": {},
   "source": [
    "# Task 3 "
   ]
  },
  {
   "cell_type": "code",
   "execution_count": 16,
   "metadata": {},
   "outputs": [],
   "source": [
    "from sklearn.ensemble import RandomForestClassifier, ExtraTreesClassifier, AdaBoostClassifier, GradientBoostingClassifier"
   ]
  },
  {
   "cell_type": "code",
   "execution_count": 17,
   "metadata": {},
   "outputs": [],
   "source": [
    "X_train, X_test, y_train, y_test = train_test_split(X, y, test_size=0.3, random_state=42)"
   ]
  },
  {
   "cell_type": "code",
   "execution_count": 18,
   "metadata": {},
   "outputs": [
    {
     "name": "stdout",
     "output_type": "stream",
     "text": [
      "RandomForestClassifier Accuracy: 0.97\n",
      "ExtraTreesClassifier Accuracy: 0.98\n",
      "AdaBoostClassifier Accuracy: 1.0\n",
      "GradientBoostingClassifier Accuracy: 0.9\n"
     ]
    }
   ],
   "source": [
    "ensembels = [RandomForestClassifier(n_estimators = 100), \n",
    "            ExtraTreesClassifier(n_estimators = 100),\n",
    "            AdaBoostClassifier(n_estimators = 100),\n",
    "            GradientBoostingClassifier(n_estimators = 100)]\n",
    "\n",
    "ens_names = ['RandomForestClassifier', \n",
    "            'ExtraTreesClassifier',\n",
    "            'AdaBoostClassifier',\n",
    "            'GradientBoostingClassifier']\n",
    "\n",
    "for i in range(len(ensembels)):\n",
    "    ens = ensembels[i]\n",
    "    ens.fit(X_train, y_train)\n",
    "    \n",
    "    pred = ens.predict(X_test)\n",
    "\n",
    "    acc = accuracy_score(y_test, pred)\n",
    "    print( ens_names[i], \"Accuracy:\", np.round(acc, 2))"
   ]
  }
 ],
 "metadata": {
  "kernelspec": {
   "display_name": "Python 3",
   "language": "python",
   "name": "python3"
  },
  "language_info": {
   "codemirror_mode": {
    "name": "ipython",
    "version": 3
   },
   "file_extension": ".py",
   "mimetype": "text/x-python",
   "name": "python",
   "nbconvert_exporter": "python",
   "pygments_lexer": "ipython3",
   "version": "3.7.4"
  }
 },
 "nbformat": 4,
 "nbformat_minor": 4
}
