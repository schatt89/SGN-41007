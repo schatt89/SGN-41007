{
 "cells": [
  {
   "cell_type": "markdown",
   "metadata": {},
   "source": [
    "# Task 0 (pen & paper)"
   ]
  },
  {
   "cell_type": "code",
   "execution_count": 1,
   "metadata": {},
   "outputs": [
    {
     "name": "stdout",
     "output_type": "stream",
     "text": [
      "WARNING:tensorflow:From /Users/anna/miniconda3/envs/main/lib/python3.7/site-packages/tensorflow/python/ops/init_ops.py:1251: calling VarianceScaling.__init__ (from tensorflow.python.ops.init_ops) with dtype is deprecated and will be removed in a future version.\n",
      "Instructions for updating:\n",
      "Call initializer instance with the dtype argument instead of passing it to the constructor\n"
     ]
    }
   ],
   "source": [
    "import warnings\n",
    "warnings.filterwarnings('ignore')\n",
    "\n",
    "import tensorflow as tf\n",
    "from tensorflow.keras.layers import Conv2D, MaxPool2D, Flatten, Dense\n",
    "\n",
    "model = tf.keras.Sequential([])\n",
    "N = 10 # Number of feature maps\n",
    "w, h = 5, 5 # Conv. window size\n",
    "\n",
    "model.add(Conv2D(N, (w, h),\n",
    "    input_shape=(64, 64, 3),\n",
    "    activation = 'relu',\n",
    "    padding = 'same'))\n",
    "\n",
    "model.add(MaxPool2D(pool_size=(2, 2)))\n",
    "\n",
    "model.add(Conv2D(N, (w, h),\n",
    "    activation = 'relu',\n",
    "    padding = 'same'))\n",
    "\n",
    "model.add(MaxPool2D((2,2)))\n",
    "\n",
    "model.add(Flatten())\n",
    "\n",
    "model.add(Dense(2, activation = 'sigmoid'))"
   ]
  },
  {
   "cell_type": "code",
   "execution_count": 2,
   "metadata": {},
   "outputs": [
    {
     "name": "stdout",
     "output_type": "stream",
     "text": [
      "Model: \"sequential\"\n",
      "_________________________________________________________________\n",
      "Layer (type)                 Output Shape              Param #   \n",
      "=================================================================\n",
      "conv2d (Conv2D)              (None, 64, 64, 10)        760       \n",
      "_________________________________________________________________\n",
      "max_pooling2d (MaxPooling2D) (None, 32, 32, 10)        0         \n",
      "_________________________________________________________________\n",
      "conv2d_1 (Conv2D)            (None, 32, 32, 10)        2510      \n",
      "_________________________________________________________________\n",
      "max_pooling2d_1 (MaxPooling2 (None, 16, 16, 10)        0         \n",
      "_________________________________________________________________\n",
      "flatten (Flatten)            (None, 2560)              0         \n",
      "_________________________________________________________________\n",
      "dense (Dense)                (None, 2)                 5122      \n",
      "=================================================================\n",
      "Total params: 8,392\n",
      "Trainable params: 8,392\n",
      "Non-trainable params: 0\n",
      "_________________________________________________________________\n"
     ]
    }
   ],
   "source": [
    "model.summary()"
   ]
  },
  {
   "cell_type": "code",
   "execution_count": 3,
   "metadata": {},
   "outputs": [
    {
     "name": "stdout",
     "output_type": "stream",
     "text": [
      "760 0 2510 0 0 5122\n"
     ]
    }
   ],
   "source": [
    "n_conv1 = ((5*5*3)*10) + 10\n",
    "n_conv2 = ((5*5*10)*10) + 10\n",
    "n_dense = ((1*1*2560)*2) + 2\n",
    "\n",
    "print(n_conv1, 0, n_conv2, 0, 0, n_dense)"
   ]
  },
  {
   "cell_type": "markdown",
   "metadata": {},
   "source": [
    "# Task 1 "
   ]
  },
  {
   "cell_type": "code",
   "execution_count": 77,
   "metadata": {},
   "outputs": [],
   "source": [
    "model = tf.keras.Sequential([])\n",
    "N = 32 # Number of feature maps\n",
    "w, h = 5, 5 # Conv. window size\n",
    "\n",
    "model.add(Conv2D(N, (w, h),\n",
    "    input_shape=(64, 64, 3),\n",
    "    activation = 'relu',\n",
    "    padding = 'same'))\n",
    "\n",
    "model.add(MaxPool2D(pool_size=(4, 4)))\n",
    "\n",
    "model.add(Conv2D(N, (w, h),\n",
    "    activation = 'relu',\n",
    "    padding = 'same'))\n",
    "\n",
    "model.add(MaxPool2D((4,4)))\n",
    "\n",
    "model.add(Flatten())\n",
    "\n",
    "model.add(Dense(100, activation = 'sigmoid')) # new dense layer\n",
    "\n",
    "model.add(Dense(2, activation = 'sigmoid'))"
   ]
  },
  {
   "cell_type": "code",
   "execution_count": 78,
   "metadata": {},
   "outputs": [
    {
     "name": "stdout",
     "output_type": "stream",
     "text": [
      "Model: \"sequential_6\"\n",
      "_________________________________________________________________\n",
      "Layer (type)                 Output Shape              Param #   \n",
      "=================================================================\n",
      "conv2d_12 (Conv2D)           (None, 64, 64, 32)        2432      \n",
      "_________________________________________________________________\n",
      "max_pooling2d_12 (MaxPooling (None, 16, 16, 32)        0         \n",
      "_________________________________________________________________\n",
      "conv2d_13 (Conv2D)           (None, 16, 16, 32)        25632     \n",
      "_________________________________________________________________\n",
      "max_pooling2d_13 (MaxPooling (None, 4, 4, 32)          0         \n",
      "_________________________________________________________________\n",
      "flatten_6 (Flatten)          (None, 512)               0         \n",
      "_________________________________________________________________\n",
      "dense_10 (Dense)             (None, 100)               51300     \n",
      "_________________________________________________________________\n",
      "dense_11 (Dense)             (None, 2)                 202       \n",
      "=================================================================\n",
      "Total params: 79,566\n",
      "Trainable params: 79,566\n",
      "Non-trainable params: 0\n",
      "_________________________________________________________________\n"
     ]
    }
   ],
   "source": [
    "model.summary()"
   ]
  },
  {
   "cell_type": "markdown",
   "metadata": {},
   "source": [
    "# Task 2"
   ]
  },
  {
   "cell_type": "code",
   "execution_count": 79,
   "metadata": {},
   "outputs": [
    {
     "name": "stdout",
     "output_type": "stream",
     "text": [
      "X shape: (202, 64, 64)\n",
      "y shape: (202,)\n"
     ]
    }
   ],
   "source": [
    "# -*- coding: utf-8 -*-\n",
    "\"\"\"\n",
    "Created on Thu Jan 24 08:48:51 2019\n",
    "\n",
    "@author: hehu\n",
    "\"\"\"\n",
    "\n",
    "import glob\n",
    "import numpy as np\n",
    "import os\n",
    "import matplotlib.pyplot as plt\n",
    "#from simplelbp import local_binary_pattern\n",
    "\n",
    "def load_data(folder):\n",
    "    \"\"\" \n",
    "    Load all images from subdirectories of\n",
    "    'folder'. The subdirectory name indicates\n",
    "    the class.\n",
    "    \"\"\"\n",
    "    \n",
    "    X = []          # Images go here\n",
    "    y = []          # Class labels go here\n",
    "    classes = []    # All class names go here\n",
    "    \n",
    "    subdirectories = glob.glob(folder + \"/*\")\n",
    "    \n",
    "    # Loop over all folders\n",
    "    for d in subdirectories:\n",
    "        \n",
    "        # Find all files from this folder\n",
    "        files = glob.glob(d + os.sep + \"*.jpg\")\n",
    "        \n",
    "        # Load all files\n",
    "        for name in files:\n",
    "            \n",
    "            # Load image and parse class name\n",
    "            img = plt.imread(name)\n",
    "            class_name = name.split(os.sep)[-2]\n",
    "\n",
    "            # Convert class names to integer indices:\n",
    "            if class_name not in classes:\n",
    "                classes.append(class_name)\n",
    "            \n",
    "            class_idx = classes.index(class_name)\n",
    "            \n",
    "            X.append(img)\n",
    "            y.append(class_idx)\n",
    "    \n",
    "    # Convert python lists to contiguous numpy arrays\n",
    "    X = np.array(X)\n",
    "    y = np.array(y)\n",
    "    \n",
    "    return X, y\n",
    "\n",
    "# Test our loader\n",
    "\n",
    "X, y = load_data(\"Ex3_data/GTSRB_subset\")\n",
    "print(\"X shape: \" + str(X.shape))\n",
    "print(\"y shape: \" + str(y.shape))\n",
    "# Continue your code here..."
   ]
  },
  {
   "cell_type": "code",
   "execution_count": 80,
   "metadata": {},
   "outputs": [],
   "source": [
    "from tensorflow.keras.datasets import mnist\n",
    "from tensorflow.keras.models import Sequential\n",
    "from tensorflow.keras.layers import Dense, Activation, Flatten, Conv2D, MaxPooling2D\n",
    "from tensorflow.keras.utils import to_categorical\n",
    "from sklearn.model_selection import train_test_split\n",
    "from sklearn.utils import shuffle\n",
    "import numpy as np\n",
    "import os\n",
    "\n",
    "X, y = shuffle(X, y, random_state=0)\n",
    "\n",
    "X_train, X_test, y_train, y_test = train_test_split(X, y, test_size=0.3)\n",
    "\n",
    "X_train = X_train[..., np.newaxis]\n",
    "X_test = X_test[..., np.newaxis]\n",
    "\n",
    "X_train = np.tile(X_train, [1, 1, 1, 3])\n",
    "X_test = np.tile(X_test, [1, 1, 1, 3])\n",
    "\n",
    "X_train = X_train / 255\n",
    "X_test = X_test / 255\n",
    "\n",
    "y_train = to_categorical(y_train)\n",
    "y_test = to_categorical(y_test)"
   ]
  },
  {
   "cell_type": "code",
   "execution_count": 81,
   "metadata": {},
   "outputs": [
    {
     "data": {
      "text/plain": [
       "((141, 64, 64, 3), (141, 2))"
      ]
     },
     "execution_count": 81,
     "metadata": {},
     "output_type": "execute_result"
    }
   ],
   "source": [
    "X_train.shape, y_train.shape"
   ]
  },
  {
   "cell_type": "code",
   "execution_count": 82,
   "metadata": {},
   "outputs": [
    {
     "name": "stdout",
     "output_type": "stream",
     "text": [
      "Train on 141 samples, validate on 61 samples\n",
      "Epoch 1/20\n",
      "141/141 [==============================] - 1s 10ms/sample - loss: 0.6988 - acc: 0.5674 - val_loss: 0.6355 - val_acc: 0.6557\n",
      "Epoch 2/20\n",
      "141/141 [==============================] - 0s 3ms/sample - loss: 0.5440 - acc: 0.7660 - val_loss: 0.4646 - val_acc: 0.7705\n",
      "Epoch 3/20\n",
      "141/141 [==============================] - 0s 3ms/sample - loss: 0.4537 - acc: 0.8298 - val_loss: 0.3757 - val_acc: 0.8689\n",
      "Epoch 4/20\n",
      "141/141 [==============================] - 0s 3ms/sample - loss: 0.2861 - acc: 0.8440 - val_loss: 0.1598 - val_acc: 0.9344\n",
      "Epoch 5/20\n",
      "141/141 [==============================] - 0s 3ms/sample - loss: 0.1267 - acc: 0.9504 - val_loss: 0.0946 - val_acc: 0.9836\n",
      "Epoch 6/20\n",
      "141/141 [==============================] - 0s 3ms/sample - loss: 0.0874 - acc: 0.9858 - val_loss: 0.0614 - val_acc: 0.9836\n",
      "Epoch 7/20\n",
      "141/141 [==============================] - 0s 3ms/sample - loss: 0.0138 - acc: 1.0000 - val_loss: 0.0367 - val_acc: 0.9836\n",
      "Epoch 8/20\n",
      "141/141 [==============================] - 0s 3ms/sample - loss: 0.0049 - acc: 1.0000 - val_loss: 0.0245 - val_acc: 0.9836\n",
      "Epoch 9/20\n",
      "141/141 [==============================] - 0s 3ms/sample - loss: 0.0035 - acc: 1.0000 - val_loss: 0.0233 - val_acc: 0.9836\n",
      "Epoch 10/20\n",
      "141/141 [==============================] - 0s 3ms/sample - loss: 0.0027 - acc: 1.0000 - val_loss: 0.0209 - val_acc: 0.9836\n",
      "Epoch 11/20\n",
      "141/141 [==============================] - 0s 3ms/sample - loss: 0.0021 - acc: 1.0000 - val_loss: 0.0280 - val_acc: 0.9836\n",
      "Epoch 12/20\n",
      "141/141 [==============================] - 0s 3ms/sample - loss: 0.0018 - acc: 1.0000 - val_loss: 0.0243 - val_acc: 0.9836\n",
      "Epoch 13/20\n",
      "141/141 [==============================] - 0s 3ms/sample - loss: 0.0015 - acc: 1.0000 - val_loss: 0.0235 - val_acc: 0.9836\n",
      "Epoch 14/20\n",
      "141/141 [==============================] - 0s 3ms/sample - loss: 0.0013 - acc: 1.0000 - val_loss: 0.0231 - val_acc: 0.9836\n",
      "Epoch 15/20\n",
      "141/141 [==============================] - 0s 3ms/sample - loss: 0.0012 - acc: 1.0000 - val_loss: 0.0215 - val_acc: 0.9836\n",
      "Epoch 16/20\n",
      "141/141 [==============================] - 0s 3ms/sample - loss: 0.0011 - acc: 1.0000 - val_loss: 0.0243 - val_acc: 0.9836\n",
      "Epoch 17/20\n",
      "141/141 [==============================] - 0s 3ms/sample - loss: 9.6868e-04 - acc: 1.0000 - val_loss: 0.0219 - val_acc: 0.9836\n",
      "Epoch 18/20\n",
      "141/141 [==============================] - 0s 3ms/sample - loss: 9.1705e-04 - acc: 1.0000 - val_loss: 0.0249 - val_acc: 0.9836\n",
      "Epoch 19/20\n",
      "141/141 [==============================] - 0s 3ms/sample - loss: 8.3990e-04 - acc: 1.0000 - val_loss: 0.0244 - val_acc: 0.9836\n",
      "Epoch 20/20\n",
      "141/141 [==============================] - 0s 3ms/sample - loss: 7.6315e-04 - acc: 1.0000 - val_loss: 0.0240 - val_acc: 0.9836\n"
     ]
    },
    {
     "data": {
      "text/plain": [
       "<tensorflow.python.keras.callbacks.History at 0x1a66968d90>"
      ]
     },
     "execution_count": 82,
     "metadata": {},
     "output_type": "execute_result"
    }
   ],
   "source": [
    "# Training code:\n",
    "import tensorflow as tf\n",
    "from tensorflow.keras import optimizers\n",
    "\n",
    "# The code is compiled to CUDA or C++\n",
    "sgd = optimizers.SGD(lr=0.01, decay=1e-6, momentum=0.9, nesterov=True)\n",
    "model.compile(loss=tf.keras.losses.CategoricalCrossentropy(), optimizer=sgd, metrics=['accuracy'])\n",
    "model.fit(X_train, y_train, epochs = 20, batch_size = 2,  validation_data = [X_test, y_test]) # takes a few seconds"
   ]
  },
  {
   "cell_type": "markdown",
   "metadata": {},
   "source": [
    "# Task 3"
   ]
  },
  {
   "cell_type": "code",
   "execution_count": 155,
   "metadata": {},
   "outputs": [
    {
     "data": {
      "text/plain": [
       "277.2588722239781"
      ]
     },
     "execution_count": 155,
     "metadata": {},
     "output_type": "execute_result"
    }
   ],
   "source": [
    "w = np.array([[0.0], [0.0]])\n",
    "def log_loss(w, X, y):\n",
    "    \"\"\" \n",
    "    Computes the log-loss function at w. The \n",
    "    computation uses the data in X with\n",
    "    corresponding labels in y. \n",
    "    \"\"\"\n",
    "\n",
    "    # Accumulate loss terms here.\n",
    "\n",
    "    # TODO: Sum up the loss for each sample in X to L\n",
    "    \n",
    "    # [N, 1]\n",
    "    loss = np.log(1 + np.exp(-y * X.dot(w)))\n",
    "    \n",
    "    # [1]\n",
    "    L = np.sum(loss)\n",
    "\n",
    "    return L\n",
    "\n",
    "log_loss(w, X, y)"
   ]
  },
  {
   "cell_type": "code",
   "execution_count": 161,
   "metadata": {},
   "outputs": [
    {
     "data": {
      "text/plain": [
       "array([ 0.27485926, -1.04426743])"
      ]
     },
     "execution_count": 161,
     "metadata": {},
     "output_type": "execute_result"
    }
   ],
   "source": [
    "def grad(w, X, y):\n",
    "    \"\"\" \n",
    "    Computes the gradient of the log-loss function\n",
    "    at w. The computation uses the data in X with\n",
    "    corresponding labels in y. \n",
    "    \"\"\"\n",
    "\n",
    "    # Accumulate gradient here.\n",
    "\n",
    "    # TODO: Sum up the gradient for each sample in X to G\n",
    "    \n",
    "    # [N, 2]\n",
    "    g = -y*X / (1 + np.exp(-y * X.dot(w))) * np.exp(-y * X.dot(w))\n",
    "    G = np.sum(g, axis = 0) / len(X)\n",
    "\n",
    "    return G\n",
    "\n",
    "grad(w, X, y)"
   ]
  },
  {
   "cell_type": "code",
   "execution_count": 237,
   "metadata": {},
   "outputs": [
    {
     "data": {
      "image/png": "[encoded data removed]",
      "text/plain": [
       "<Figure size 360x360 with 2 Axes>"
      ]
     },
     "metadata": {
      "needs_background": "light"
     },
     "output_type": "display_data"
    }
   ],
   "source": [
    "# load required packages\n",
    "import numpy as np\n",
    "import matplotlib.pyplot as plt\n",
    "import pandas as pd\n",
    "\n",
    "\n",
    "def log_loss(w, X, y):\n",
    "    \"\"\" \n",
    "    Computes the log-loss function at w. The \n",
    "    computation uses the data in X with\n",
    "    corresponding labels in y. \n",
    "    \"\"\"\n",
    "\n",
    "\n",
    "    # Accumulate loss terms here.\n",
    "\n",
    "    # TODO: Sum up the loss for each sample in X to L\n",
    "    \n",
    "    # [N, 1]\n",
    "    loss = np.log(1 + np.exp(-y * X.dot(w)))\n",
    "    \n",
    "    # [1]\n",
    "    L = np.sum(loss)\n",
    "\n",
    "    return L\n",
    "\n",
    "\n",
    "def grad(w, X, y):\n",
    "    \"\"\" \n",
    "    Computes the gradient of the log-loss function\n",
    "    at w. The computation uses the data in X with\n",
    "    corresponding labels in y. \n",
    "    \"\"\"\n",
    "\n",
    "    # Accumulate gradient here.\n",
    "\n",
    "    # TODO: Sum up the gradient for each sample in X to G\n",
    "    \n",
    "    # [N, 2]\n",
    "    g = -y*X / (1 + np.exp(-y * X.dot(w))) * np.exp(-y * X.dot(w))\n",
    "    G = np.sum(g, axis = 0) / len(X)\n",
    "    G = G.reshape([2, 1])\n",
    "\n",
    "    return G\n",
    "\n",
    "\n",
    "if __name__ == \"__main__\":\n",
    "\n",
    "    # TODO: Add your code here:\n",
    "\n",
    "    # 1) Load X and y data:\n",
    "    import csv\n",
    "\n",
    "    with open('Ex4_data/X.csv', newline='') as csvfile:\n",
    "        X = np.array(list(csv.reader(csvfile))).astype(float)\n",
    "    \n",
    "    with open('Ex4_data/y.csv', newline='') as csvfile:\n",
    "        y = np.array(list(csv.reader(csvfile))).astype(float)\n",
    "\n",
    "    # 2) Initialize w at random:\n",
    "    w = np.array([[0.], [0.]])\n",
    "    \n",
    "    w_array = [w]\n",
    "\n",
    "    # 3) Set step_size to a small positive value\n",
    "    \n",
    "    step_size = 0.1\n",
    "\n",
    "    # 4) Initialize empty lists for storing the path and\n",
    "    # accuracies:\n",
    "    \n",
    "    path = []\n",
    "    accuracy_list = []\n",
    "    y_10 = np.array(y)\n",
    "    y_10[y_10 == -1] = 0\n",
    "    \n",
    "    y = y.reshape(-1, 1)\n",
    "\n",
    "    for iteration in range(100):\n",
    "    \n",
    "        \n",
    "        # 5) Apply the gradient descent rule:\n",
    "        g = grad(w_array[iteration], X, y)\n",
    "        w = w_array[iteration] - g * step_size\n",
    "        w_array.append(w)\n",
    "        # 6) Print the current state:\n",
    "        # 7) Compute the accuracy:\n",
    "        \n",
    "        y_pred = 1 / (1 + np.exp(-X.dot(w)))\n",
    "        \n",
    "        acc = accuracy_score(np.round(y_pred), y_10)\n",
    "        accuracy_list.append(acc)\n",
    "        \n",
    "    # 8) Below is a template for plotting. Feel free to\n",
    "    # rewrite if you prefer different style:\n",
    "    w_array = np.array(w_array)\n",
    "    accuracy_list = np.array(accuracy_list)\n",
    "    \n",
    "    plt.figure(figsize=[5, 5])\n",
    "    plt.subplot(211)\n",
    "    plt.plot(w_array[:, 0], w_array[:, 1], 'ro-')\n",
    "    plt.xlabel('w$_0$')\n",
    "    plt.ylabel('w$_1$')\n",
    "    plt.title('Optimization path')\n",
    "\n",
    "    plt.subplot(212)\n",
    "    plt.plot(100.0 * np.array(accuracy_list), linewidth=2)\n",
    "    plt.ylabel('Accuracy / %')\n",
    "    plt.xlabel('Iteration')\n",
    "    plt.tight_layout()\n",
    "    plt.savefig(\"log_loss_minimization.pdf\", bbox_inches=\"tight\")"
   ]
  }
 ],
 "metadata": {
  "kernelspec": {
   "display_name": "Python 3",
   "language": "python",
   "name": "python3"
  },
  "language_info": {
   "codemirror_mode": {
    "name": "ipython",
    "version": 3
   },
   "file_extension": ".py",
   "mimetype": "text/x-python",
   "name": "python",
   "nbconvert_exporter": "python",
   "pygments_lexer": "ipython3",
   "version": "3.7.4"
  }
 },
 "nbformat": 4,
 "nbformat_minor": 4
}
